{
  "nbformat": 4,
  "nbformat_minor": 0,
  "metadata": {
    "colab": {
      "provenance": [],
      "include_colab_link": true
    },
    "kernelspec": {
      "name": "python3",
      "display_name": "Python 3"
    },
    "language_info": {
      "name": "python"
    }
  },
  "cells": [
    {
      "cell_type": "markdown",
      "metadata": {
        "id": "view-in-github",
        "colab_type": "text"
      },
      "source": [
        "<a href=\"https://colab.research.google.com/github/aoiktd/test/blob/main/get_gdrive_path_from_url.ipynb\" target=\"_parent\"><img src=\"https://colab.research.google.com/assets/colab-badge.svg\" alt=\"Open In Colab\"/></a>"
      ]
    },
    {
      "cell_type": "code",
      "source": [
        "#@title URLの入力フォーム\n",
        "url = \"https://docs.google.com/spreadsheets/d/1GSWg89UasukJ7ALPjTgrPu-w2XxKIGwYrzOWF953rAc/edit?resourcekey#gid=2118082525&range=A11\"#@param {type:\"string\"}"
      ],
      "metadata": {
        "id": "CMmt74vrX49O"
      },
      "execution_count": 7,
      "outputs": []
    },
    {
      "cell_type": "markdown",
      "source": [
        "## Google Drive（共有フォルダ）内のファイルパスを表示"
      ],
      "metadata": {
        "id": "36yCUSp0OaxE"
      }
    },
    {
      "cell_type": "code",
      "execution_count": 8,
      "metadata": {
        "id": "SKcv8HirPX8Q",
        "colab": {
          "base_uri": "https://localhost:8080/"
        },
        "outputId": "ac6180e0-829b-49b2-90f1-4b5d447cac96"
      },
      "outputs": [
        {
          "output_type": "stream",
          "name": "stdout",
          "text": [
            "G:\\共有ドライブ\\OperationArchitect\\ミニ開発チーム\\Design Doc: 事前稟議運用\\事前稟議申請フォーム（回答）\n",
            "/content/drive/Shareddrives/OperationArchitect/ミニ開発チーム/Design Doc: 事前稟議運用/事前稟議申請フォーム（回答）\n"
          ]
        }
      ],
      "source": [
        "############\n",
        "## IMPORT ##\n",
        "############\n",
        "from google.colab import auth\n",
        "auth.authenticate_user()\n",
        "from googleapiclient.discovery import build\n",
        "import os\n",
        "import google.colab\n",
        "import googleapiclient.discovery\n",
        "import googleapiclient.http\n",
        "from googleapiclient._auth import default_credentials\n",
        "import pandas as pd\n",
        "from apiclient import errors\n",
        "\n",
        "\n",
        "#####################\n",
        "## drive apiの認証 ##\n",
        "#####################\n",
        "creds,project=google.auth.default()\n",
        "drive_service_v2 = build('drive', 'v2', credentials=creds)\n",
        "drive_service_v3 = build('drive', 'v3', credentials=creds)\n",
        "\n",
        "\n",
        "##############\n",
        "## 各種関数 ##\n",
        "##############\n",
        "def get_id_from_url(input_url):\n",
        "  return input_url.split('/')[5]\n",
        "\n",
        "def get_folder_name(shared_drive_id, parent_id, child_id):\n",
        "  results = drive_service_v3.files().list(\n",
        "    fields='*',\n",
        "    corpora=\"drive\",\n",
        "    driveId=shared_drive_id,\n",
        "    supportsTeamDrives = True,\n",
        "    includeItemsFromAllDrives = True,\n",
        "    includeTeamDriveItems = True,\n",
        "    supportsAllDrives=True,\n",
        "    q=f\"'{parent_id}' in parents \"\n",
        "  ).execute()\n",
        "  items = results.get('files', [])\n",
        "\n",
        "  for item in items:\n",
        "    if item['id']==child_id:\n",
        "      return item['name']\n",
        "\n",
        "def get_parents_list(par_list):\n",
        "  file_id = par_list[-1]\n",
        "  try:\n",
        "    parents = drive_service_v2.parents().list(fileId=file_id).execute()\n",
        "    for parent in parents['items']:\n",
        "      # print('File Id: %s' % parent['id'])\n",
        "      par_list.append(parent['id'])\n",
        "      return get_parents_list(par_list)\n",
        "    else:\n",
        "      return par_list\n",
        "  except errors.HttpError:\n",
        "    print('HTTPError: %s' % errors)\n",
        "\n",
        "def main():\n",
        "  # 共有ドライブのID, 名前による辞書作成\n",
        "  drives = drive_service_v3.drives().list(pageSize=100).execute()\n",
        "  share_drive_dict = {}\n",
        "  for sdrive in drives['drives']:\n",
        "    share_drive_dict[sdrive['id']] = sdrive['name']\n",
        "  # display(share_drive_dict)\n",
        "\n",
        "  # URLからIDを取得\n",
        "  id = get_id_from_url(url)\n",
        "\n",
        "  # IDをもとにルートフォルダまでのパス上のIDリスト作成\n",
        "  path_list = get_parents_list([id])\n",
        "  # 一番最後のIDが共有ドライブのID\n",
        "  SHARED_DRIVE_ID = path_list[-1]\n",
        "\n",
        "  # IDリストからフォルダ名を取得し、パスの作成\n",
        "  path = ''\n",
        "  for i in range(len(path_list)-1):\n",
        "    name = get_folder_name(SHARED_DRIVE_ID, parent_id=path_list[i+1], child_id=path_list[i])\n",
        "    path = '\\\\'+name+path\n",
        "\n",
        "  # 表示\n",
        "  return '\\\\'+share_drive_dict[SHARED_DRIVE_ID]+path\n",
        "\n",
        "\n",
        "##########\n",
        "## 実行 ##\n",
        "##########\n",
        "path = main()\n",
        "# PC用のパス\n",
        "print('G:\\\\共有ドライブ'+path)\n",
        "# Colab用のパス\n",
        "print('/content/drive/Shareddrives'+path.replace('\\\\', '/'))"
      ]
    }
  ]
}